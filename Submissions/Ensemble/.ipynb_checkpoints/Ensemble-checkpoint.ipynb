{
 "cells": [
  {
   "cell_type": "code",
   "execution_count": 1,
   "metadata": {
    "collapsed": true
   },
   "outputs": [],
   "source": [
    "import os \n",
    "import numpy as np\n",
    "import pandas as pd"
   ]
  },
  {
   "cell_type": "markdown",
   "metadata": {},
   "source": [
    "Retrieve all prediction files (only .csv format) in the Ensemble folder."
   ]
  },
  {
   "cell_type": "code",
   "execution_count": 5,
   "metadata": {},
   "outputs": [],
   "source": [
    "files = [file for file in os.listdir('outputs') if \".csv\" in file]"
   ]
  },
  {
   "cell_type": "markdown",
   "metadata": {},
   "source": [
    "Parse the output vector"
   ]
  },
  {
   "cell_type": "code",
   "execution_count": 6,
   "metadata": {},
   "outputs": [],
   "source": [
    "res = pd.DataFrame()\n",
    "count = 0\n",
    "\n",
    "for file in files:\n",
    "\top = pd.read_csv('outputs/' + file, header=None)\n",
    "\top = op.iloc[1:]\n",
    "\top = op.drop([0], axis=1)\n",
    "\tres[count] = op[1]\n",
    "\tcount+=1\n",
    "\n",
    "res = np.asarray(res.as_matrix()).astype(int)\n"
   ]
  },
  {
   "cell_type": "code",
   "execution_count": 7,
   "metadata": {
    "collapsed": true
   },
   "outputs": [],
   "source": [
    "final = []\n",
    "for row in res:\n",
    "\tcount = np.bincount(row)\n",
    "\tfinal.append(np.argmax(count))\n",
    "\n",
    "final = np.array(final)\n",
    "\n",
    "arr = np.arange(len(final))\n",
    "\n",
    "np.savetxt('ensembler_output.csv', np.dstack((arr, final))[0], \"%d,%d\", header = \"Id,Label\", comments='')"
   ]
  },
  {
   "cell_type": "code",
   "execution_count": null,
   "metadata": {
    "collapsed": true
   },
   "outputs": [],
   "source": []
  }
 ],
 "metadata": {
  "kernelspec": {
   "display_name": "Python 3",
   "language": "python",
   "name": "python3"
  },
  "language_info": {
   "codemirror_mode": {
    "name": "ipython",
    "version": 3
   },
   "file_extension": ".py",
   "mimetype": "text/x-python",
   "name": "python",
   "nbconvert_exporter": "python",
   "pygments_lexer": "ipython3",
   "version": "3.6.3"
  }
 },
 "nbformat": 4,
 "nbformat_minor": 2
}

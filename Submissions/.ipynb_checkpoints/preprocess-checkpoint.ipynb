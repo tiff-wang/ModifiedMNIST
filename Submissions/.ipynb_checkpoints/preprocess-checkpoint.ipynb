{
 "cells": [
  {
   "cell_type": "code",
   "execution_count": 28,
   "metadata": {
    "collapsed": true
   },
   "outputs": [],
   "source": [
    "#imports\n",
    "import cv2\n",
    "import numpy as np\n",
    "import matplotlib.pyplot as plt\n",
    "%matplotlib inline\n",
    "import csv"
   ]
  },
  {
   "cell_type": "code",
   "execution_count": 2,
   "metadata": {
    "collapsed": true
   },
   "outputs": [],
   "source": [
    "#constants\n",
    "BACK_TRESH=235\n",
    "MAX_LEN=30\n",
    "DISCARD_PERC=0.8"
   ]
  },
  {
   "cell_type": "code",
   "execution_count": 3,
   "metadata": {
    "collapsed": true
   },
   "outputs": [],
   "source": [
    "URL = 'https://s3.us-east-2.amazonaws.com/kaggle551/'\n",
    "# load the data\n",
    "train_x = pd.read_csv(URL + 'train_x_preproc.csv', header=None)\n",
    "train_x = np.array(x_train.as_matrix())\n",
    "\n",
    "#x_test = np.loadtxt('../dataset/test_x_proc.csv', delimiter = ',')\n",
    "test_x = pd.read_csv(URL + 'test_x_preproc.csv', header=None)\n",
    "test_x = np.array(x_test.as_matrix())"
   ]
  },
  {
   "cell_type": "code",
   "execution_count": 39,
   "metadata": {
    "collapsed": true,
    "scrolled": false
   },
   "outputs": [],
   "source": [
    "#create the preprocessed training dataset and save it\n",
    "with open(\"dataset/train_x_preproc.csv\", \"wb\") as csvfile:\n",
    "    writer = csv.writer(csvfile)\n",
    "    \n",
    "    for h in range(0,49999):\n",
    "        #delete the background\n",
    "        x2=np.copy(train_x[h,:])\n",
    "        x2=x2.reshape(64,64)\n",
    "        x2[x2<BACK_TRESH]=0\n",
    "        x2=np.uint8(x2)\n",
    "\n",
    "        #create bounding rect around the digits\n",
    "        ret,thresh = cv2.threshold(x2,127,255,0)\n",
    "        _,contours,hierachy = cv2.findContours(thresh,cv2.RETR_TREE,cv2.CHAIN_APPROX_SIMPLE)\n",
    "        \n",
    "        #instantiate variables for looping\n",
    "        rect=0\n",
    "        lrgst_dim=0\n",
    "        lrgst_dims=[]\n",
    "        letters=[]\n",
    "        item=0\n",
    "        x3=np.zeros(x2.shape)\n",
    "        \n",
    "        #loop through the contours found\n",
    "        for i in range(0, len(contours)):\n",
    "            cnt = contours[i]\n",
    "            #mask = np.zeros(im2.shape,np.uint8)\n",
    "            #cv2.drawContours(mask,[cnt],0,255,-1)\n",
    "            x,y,w,h = cv2.boundingRect(cnt)\n",
    "            #area=cv2.contourArea(cnt)\n",
    "            #cv2.imwrite(str(i)+'.png', letter)\n",
    "            #print np.maximum(w,h)\n",
    "            max_dim=np.maximum(w,h)\n",
    "            if(max_dim>=int(lrgst_dim*0.80)):\n",
    "                if(max_dim>lrgst_dim and max_dim<MAX_LEN):\n",
    "                    lrgst_dim=max_dim\n",
    "                letters.append([x,y,w,h])\n",
    "                lrgst_dims.append(max_dim)\n",
    "                \n",
    "        #loop through the contours and draw the new image\n",
    "        for j in range(0,len(letters)):\n",
    "            max_dim=lrgst_dims[j]\n",
    "            if(max_dim>=int(lrgst_dim*DISCARD_PERC)):\n",
    "                x3[letters[j][1]:letters[j][1]+letters[j][3],letters[j][0]:letters[j][0]+letters[j][2]]=x2[letters[j][1]:letters[j][1]+letters[j][3],letters[j][0]:letters[j][0]+letters[j][2]]\n",
    "        \n",
    "        #vectorie the image and write it as a row in the opened file\n",
    "        x3=x3.reshape(4096)\n",
    "        writer.writerow(x3)"
   ]
  },
  {
   "cell_type": "code",
   "execution_count": null,
   "metadata": {
    "collapsed": true
   },
   "outputs": [],
   "source": [
    "#create the preprocessed testing dataset and save it\n",
    "with open(\"dataset/test_x_preproc.csv\", \"wb\") as csvfile:\n",
    "    writer = csv.writer(csvfile)\n",
    "    \n",
    "    for h in range(0,9999):\n",
    "        #delete the background\n",
    "        x2=np.copy(test_x[h,:])\n",
    "        x2=x2.reshape(64,64)\n",
    "        x2[x2<BACK_TRESH]=0\n",
    "        x2=np.uint8(x2)\n",
    "\n",
    "        #create bounding rect around the digits\n",
    "        ret,thresh = cv2.threshold(x2,127,255,0)\n",
    "        _,contours,hierachy = cv2.findContours(thresh,cv2.RETR_TREE,cv2.CHAIN_APPROX_SIMPLE)\n",
    "\n",
    "        #instantiate variables for looping\n",
    "        rect=0\n",
    "        lrgst_dim=0\n",
    "        lrgst_dims=[]\n",
    "        letters=[]\n",
    "        item=0\n",
    "        x3=np.zeros(x2.shape)\n",
    "\n",
    "        \n",
    "        #loop through the contours found\n",
    "        for i in range(0, len(contours)):\n",
    "            cnt = contours[i]\n",
    "            #mask = np.zeros(im2.shape,np.uint8)\n",
    "            #cv2.drawContours(mask,[cnt],0,255,-1)\n",
    "            x,y,w,h = cv2.boundingRect(cnt)\n",
    "            #area=cv2.contourArea(cnt)\n",
    "            #cv2.imwrite(str(i)+'.png', letter)\n",
    "            #print np.maximum(w,h)\n",
    "            max_dim=np.maximum(w,h)\n",
    "            if(max_dim>=int(lrgst_dim*0.80)):\n",
    "                if(max_dim>lrgst_dim and max_dim<MAX_LEN):\n",
    "                    lrgst_dim=max_dim\n",
    "                letters.append([x,y,w,h])\n",
    "                lrgst_dims.append(max_dim)\n",
    "        \n",
    "        #draw the preprocessed image\n",
    "        for j in range(0,len(letters)):\n",
    "            max_dim=lrgst_dims[j]\n",
    "            if(max_dim>=int(lrgst_dim*DISCARD_PERC)):\n",
    "                x3[letters[j][1]:letters[j][1]+letters[j][3],letters[j][0]:letters[j][0]+letters[j][2]]=x2[letters[j][1]:letters[j][1]+letters[j][3],letters[j][0]:letters[j][0]+letters[j][2]]\n",
    "        \n",
    "        #vectorie the image and write it as a row in the opened file\n",
    "        x3=x3.reshape(4096) \n",
    "        writer.writerow(x3)"
   ]
  }
 ],
 "metadata": {
  "kernelspec": {
   "display_name": "Python 3",
   "language": "python",
   "name": "python3"
  },
  "language_info": {
   "codemirror_mode": {
    "name": "ipython",
    "version": 3
   },
   "file_extension": ".py",
   "mimetype": "text/x-python",
   "name": "python",
   "nbconvert_exporter": "python",
   "pygments_lexer": "ipython3",
   "version": "3.6.3"
  }
 },
 "nbformat": 4,
 "nbformat_minor": 2
}

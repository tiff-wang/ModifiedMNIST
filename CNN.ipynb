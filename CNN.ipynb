{
 "cells": [
  {
   "cell_type": "code",
   "execution_count": 1,
   "metadata": {
    "collapsed": true
   },
   "outputs": [],
   "source": [
    "import pandas as pd\n",
    "import numpy as np\n",
    "import scipy.misc\n",
    "\n",
    "import sklearn.metrics as sk\n",
    "from sklearn import svm\n",
    "from sklearn import preprocessing"
   ]
  },
  {
   "cell_type": "code",
   "execution_count": 5,
   "metadata": {},
   "outputs": [
    {
     "name": "stdout",
     "output_type": "stream",
     "text": [
      "parsing train_x\n",
      "parsing train_y\n",
      "parsing test_x\n",
      "data initialized\n"
     ]
    }
   ],
   "source": [
    "def normalizer(m):\n",
    "    return preprocessing.normalize(m, axis = 1, norm = 'l2')\n",
    "\n",
    "print('parsing train_x')\n",
    "x = np.loadtxt(\"../dataset/train_x.csv\", delimiter=\",\") # load from text \n",
    "\n",
    "print('parsing train_y')\n",
    "y = np.loadtxt(\"../dataset/train_y.csv\", delimiter=\",\") \n",
    "\n",
    "print('parsing test_x')\n",
    "x_test = np.loadtxt(\"../dataset/test_x.csv\", delimiter=\",\") \n",
    "\n",
    "x = x.reshape(-1, 64, 64) # reshape \n",
    "y = y.reshape(-1, 1) \n",
    "x_test = x_test.reshape(-1, 64, 64)\n",
    "#norm_x = normalizer(x)\n",
    "#norm_x_test = normalizer(x_test)\n",
    "print('data initialized')\n",
    "\n"
   ]
  },
  {
   "cell_type": "code",
   "execution_count": null,
   "metadata": {
    "collapsed": true
   },
   "outputs": [],
   "source": []
  }
 ],
 "metadata": {
  "kernelspec": {
   "display_name": "Python 3",
   "language": "python",
   "name": "python3"
  },
  "language_info": {
   "codemirror_mode": {
    "name": "ipython",
    "version": 3
   },
   "file_extension": ".py",
   "mimetype": "text/x-python",
   "name": "python",
   "nbconvert_exporter": "python",
   "pygments_lexer": "ipython3",
   "version": "3.6.3"
  }
 },
 "nbformat": 4,
 "nbformat_minor": 2
}
